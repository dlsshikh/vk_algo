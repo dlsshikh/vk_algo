{
 "cells": [
  {
   "cell_type": "code",
   "execution_count": 2,
   "id": "0215c73f-e14e-49ac-b38f-6b84b88b45dd",
   "metadata": {},
   "outputs": [],
   "source": [
    "from typing import Optional\n",
    "\n",
    "# Definition for singly-linked list.\n",
    "class ListNode:\n",
    "    def __init__(self, val=0, next=None):\n",
    "        self.val = val\n",
    "        self.next = next\n",
    "class Solution:\n",
    "    def reverseList(self, head: Optional[ListNode]) -> Optional[ListNode]:\n",
    "        prev = None\n",
    "        current = head\n",
    "        while current != None:\n",
    "            next = current.next\n",
    "            current.next = prev\n",
    "            prev = current\n",
    "            current = next\n",
    "\n",
    "        head = prev\n",
    "        return head \n",
    "                "
   ]
  },
  {
   "cell_type": "code",
   "execution_count": 3,
   "id": "5a1bcf65-5920-4a85-9dee-34b8a9b946c0",
   "metadata": {},
   "outputs": [
    {
     "name": "stdout",
     "output_type": "stream",
     "text": [
      "Введите элементы списка через пробел:\n"
     ]
    },
    {
     "name": "stdin",
     "output_type": "stream",
     "text": [
      " 1 2 3 5 6\n"
     ]
    },
    {
     "name": "stdout",
     "output_type": "stream",
     "text": [
      "\n",
      "Исходный список: 1 -> 2 -> 3 -> 5 -> 6 -> None\n",
      "Развернутый список: 6 -> 5 -> 3 -> 2 -> 1 -> None\n"
     ]
    }
   ],
   "source": [
    "def create_linked_list(values):\n",
    "    \"\"\"Создает связный список из списка значений\"\"\"\n",
    "    if not values:\n",
    "        return None\n",
    "    head = ListNode(values[0])\n",
    "    current = head\n",
    "    for val in values[1:]:\n",
    "        current.next = ListNode(val)\n",
    "        current = current.next\n",
    "    return head\n",
    "\n",
    "def linked_list_to_list(head):\n",
    "    \"\"\"Преобразует связный список в обычный список\"\"\"\n",
    "    result = []\n",
    "    current = head\n",
    "    while current:\n",
    "        result.append(current.val)\n",
    "        current = current.next\n",
    "    return result\n",
    "\n",
    "def print_linked_list(head):\n",
    "    \"\"\"Печатает связный список в удобном формате\"\"\"\n",
    "    values = linked_list_to_list(head)\n",
    "    return \" -> \".join(map(str, values)) + \" -> None\"\n",
    "\n",
    "print(\"Введите элементы списка через пробел:\")\n",
    "user_input = input().strip()\n",
    "\n",
    "if not user_input:\n",
    "    print(\"Ошибка: введите хотя бы один элемент\")\n",
    "    \n",
    "values = list(map(int, user_input.split()))\n",
    "\n",
    "head = create_linked_list(values)\n",
    "\n",
    "print(f\"\\nИсходный список: {print_linked_list(head)}\")\n",
    "solution = Solution()\n",
    "reversed_head = solution.reverseList(head)\n",
    "print(f\"Развернутый список: {print_linked_list(reversed_head)}\")\n",
    "\n"
   ]
  },
  {
   "cell_type": "code",
   "execution_count": null,
   "id": "dac3434e-5ea1-4c65-b14c-3c8a9548547d",
   "metadata": {},
   "outputs": [],
   "source": []
  }
 ],
 "metadata": {
  "kernelspec": {
   "display_name": "Python 3 (ipykernel)",
   "language": "python",
   "name": "python3"
  },
  "language_info": {
   "codemirror_mode": {
    "name": "ipython",
    "version": 3
   },
   "file_extension": ".py",
   "mimetype": "text/x-python",
   "name": "python",
   "nbconvert_exporter": "python",
   "pygments_lexer": "ipython3",
   "version": "3.11.7"
  }
 },
 "nbformat": 4,
 "nbformat_minor": 5
}
