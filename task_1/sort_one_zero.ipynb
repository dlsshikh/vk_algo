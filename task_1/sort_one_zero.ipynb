{
 "cells": [
  {
   "cell_type": "code",
   "execution_count": 4,
   "id": "6658153f-3d52-4da8-bd39-6287021c239d",
   "metadata": {},
   "outputs": [],
   "source": [
    "from typing import List\n",
    "\n",
    "class Solution:\n",
    "    def sortBinaryArray(self, nums: List[int]) -> List[int]:\n",
    "        j = 0\n",
    "        for i in range(len(nums)):\n",
    "            if nums[i] == 0:\n",
    "                nums[i], nums[j] = nums[j], nums[i]\n",
    "                j += 1 \n",
    "        return nums"
   ]
  },
  {
   "cell_type": "code",
   "execution_count": 5,
   "id": "65067e77-607f-427b-9cfc-219cccc4282c",
   "metadata": {},
   "outputs": [
    {
     "name": "stdout",
     "output_type": "stream",
     "text": [
      "Введите бинарный массив (только 0 и 1) через пробел:\n"
     ]
    },
    {
     "name": "stdin",
     "output_type": "stream",
     "text": [
      " 1 0 1 0 1 0\n"
     ]
    },
    {
     "name": "stdout",
     "output_type": "stream",
     "text": [
      "Результат: [0, 0, 0, 1, 1, 1]\n"
     ]
    }
   ],
   "source": [
    "solution = Solution()\n",
    "\n",
    "print(\"Введите бинарный массив (только 0 и 1) через пробел:\")\n",
    "try:\n",
    "    nums = list(map(int, input().split()))\n",
    "    \n",
    "    for num in nums:\n",
    "        if num not in [0, 1]:\n",
    "            raise ValueError(\"Массив должен содержать только 0 и 1\")\n",
    "    \n",
    "    original_nums = nums.copy()\n",
    "    \n",
    "    solution.sortBinaryArray(nums)\n",
    "    \n",
    "    print(f\"Результат: {nums}\")\n",
    "    \n",
    "    zero_count = sum(1 for num in nums if num == 0)\n",
    "    is_correct = all(num == 0 for num in nums[:zero_count]) and \\\n",
    "                all(num == 1 for num in nums[zero_count:])\n",
    "    \n",
    "except ValueError as e:\n",
    "    print(f\"Ошибка ввода: {e}\")"
   ]
  },
  {
   "cell_type": "code",
   "execution_count": null,
   "id": "8b5fec4b-5b63-417a-a78a-2795e9666843",
   "metadata": {},
   "outputs": [],
   "source": []
  }
 ],
 "metadata": {
  "kernelspec": {
   "display_name": "Python 3 (ipykernel)",
   "language": "python",
   "name": "python3"
  },
  "language_info": {
   "codemirror_mode": {
    "name": "ipython",
    "version": 3
   },
   "file_extension": ".py",
   "mimetype": "text/x-python",
   "name": "python",
   "nbconvert_exporter": "python",
   "pygments_lexer": "ipython3",
   "version": "3.11.5"
  }
 },
 "nbformat": 4,
 "nbformat_minor": 5
}
