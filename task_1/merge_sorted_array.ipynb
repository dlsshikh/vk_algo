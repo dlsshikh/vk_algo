{
 "cells": [
  {
   "cell_type": "code",
   "execution_count": 1,
   "id": "30006308-30b7-4bcc-85b9-fc8d8279f915",
   "metadata": {},
   "outputs": [],
   "source": [
    "from typing import List\n",
    "\n",
    "class Solution:\n",
    "    def merge(self, nums1: List[int], m: int, nums2: List[int], n: int) -> None:\n",
    "        p1 = m +n - 1\n",
    "        p2, p3 = m - 1, n - 1\n",
    "        while p2 >= 0 and p3 >= 0:\n",
    "            if nums1[p2] >= nums2[p3]:\n",
    "                nums1[p1] = nums1[p2]\n",
    "                p2 -=1\n",
    "            else:\n",
    "                nums1[p1] = nums2[p3]\n",
    "                p3 -=1\n",
    "            p1 -=1\n",
    "        \n",
    "        while p3 >= 0:\n",
    "            nums1[p1] = nums2[p3]\n",
    "            p3 -=1\n",
    "            p1 -=1\n",
    "\n",
    "        return nums1"
   ]
  },
  {
   "cell_type": "code",
   "execution_count": 8,
   "id": "cae75a4f-a6ad-4c9a-8fc8-52eba4c698ca",
   "metadata": {},
   "outputs": [
    {
     "name": "stdout",
     "output_type": "stream",
     "text": [
      "Введите элементы первого массива (nums1) через пробел:\n",
      "(Первые m элементов - значимые, остальные n элементов могут быть любыми, так как будут перезаписаны)\n"
     ]
    },
    {
     "name": "stdin",
     "output_type": "stream",
     "text": [
      " 1 2 3 0 0 0\n"
     ]
    },
    {
     "name": "stdout",
     "output_type": "stream",
     "text": [
      "Введите количество значимых элементов в первом массиве (m):\n"
     ]
    },
    {
     "name": "stdin",
     "output_type": "stream",
     "text": [
      " 3\n"
     ]
    },
    {
     "name": "stdout",
     "output_type": "stream",
     "text": [
      "Введите элементы второго массива (nums2) через пробел:\n"
     ]
    },
    {
     "name": "stdin",
     "output_type": "stream",
     "text": [
      " 2 5 6\n"
     ]
    },
    {
     "name": "stdout",
     "output_type": "stream",
     "text": [
      "Результат слияния: [1, 2, 2, 3, 5, 6]\n"
     ]
    }
   ],
   "source": [
    "solution = Solution()\n",
    "\n",
    "print(\"Введите элементы первого массива (nums1) через пробел:\")\n",
    "print(\"(Первые m элементов - значимые, остальные n элементов могут быть любыми, так как будут перезаписаны)\")\n",
    "nums1_input = list(map(int, input().split()))\n",
    "\n",
    "print(\"Введите количество значимых элементов в первом массиве (m):\")\n",
    "m = int(input())\n",
    "\n",
    "print(\"Введите элементы второго массива (nums2) через пробел:\")\n",
    "nums2 = list(map(int, input().split()))\n",
    "\n",
    "n = len(nums2)\n",
    "\n",
    "if len(nums1_input) < m + n:\n",
    "    print(f\"Ошибка: nums1 должен иметь длину не менее {m + n} для слияния\")\n",
    "    exit(1)\n",
    "\n",
    "solution.merge(nums1_input, m, nums2, n)\n",
    "\n",
    "print(f\"Результат слияния: {nums1_input}\")"
   ]
  },
  {
   "cell_type": "code",
   "execution_count": null,
   "id": "a85499fb-45cc-4ba2-b77f-4d0a88901c43",
   "metadata": {},
   "outputs": [],
   "source": []
  }
 ],
 "metadata": {
  "kernelspec": {
   "display_name": "Python 3 (ipykernel)",
   "language": "python",
   "name": "python3"
  },
  "language_info": {
   "codemirror_mode": {
    "name": "ipython",
    "version": 3
   },
   "file_extension": ".py",
   "mimetype": "text/x-python",
   "name": "python",
   "nbconvert_exporter": "python",
   "pygments_lexer": "ipython3",
   "version": "3.11.5"
  }
 },
 "nbformat": 4,
 "nbformat_minor": 5
}
