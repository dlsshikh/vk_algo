{
 "cells": [
  {
   "cell_type": "code",
   "execution_count": 1,
   "id": "8394dc0f-dbd1-4c5c-bda9-d68e5e6f4d08",
   "metadata": {},
   "outputs": [],
   "source": [
    "from typing import Optional\n",
    "\n",
    "# Definition for singly-linked list.\n",
    "class ListNode:\n",
    "    def __init__(self, x):\n",
    "        self.val = x\n",
    "        self.next = None\n",
    "\n",
    "class Solution:\n",
    "    def hasCycle(self, head: Optional[ListNode]) -> bool:\n",
    "        slow = head\n",
    "        fast = head\n",
    "        while fast and fast.next:\n",
    "            slow = slow.next\n",
    "            fast = fast.next.next\n",
    "        \n",
    "            if slow == fast:\n",
    "                return True\n",
    "         \n",
    "        return False"
   ]
  },
  {
   "cell_type": "code",
   "execution_count": 4,
   "id": "cd99469f-5fd2-42fc-a74b-d191d430401b",
   "metadata": {},
   "outputs": [
    {
     "name": "stdout",
     "output_type": "stream",
     "text": [
      "Введите элементы списка через пробел:\n"
     ]
    },
    {
     "name": "stdin",
     "output_type": "stream",
     "text": [
      " 1 2 4 6\n"
     ]
    },
    {
     "name": "stdout",
     "output_type": "stream",
     "text": [
      "Введите позицию для создания цикла (-1 если цикла нет):\n"
     ]
    },
    {
     "name": "stdin",
     "output_type": "stream",
     "text": [
      " 2\n"
     ]
    },
    {
     "name": "stdout",
     "output_type": "stream",
     "text": [
      "\n",
      "Созданный список: 1 -> 2 -> 4 -> 6 -> 4 -> ... (цикл)\n",
      "Позиция цикла: 2\n",
      "В списке есть цикл\n"
     ]
    }
   ],
   "source": [
    "def create_linked_list_with_cycle(values, pos):\n",
    "    \"\"\"Создает связный список с циклом (если pos >= 0)\"\"\"\n",
    "    if not values:\n",
    "        return None\n",
    "    \n",
    "    # Создаем все узлы\n",
    "    nodes = []\n",
    "    for val in values:\n",
    "        nodes.append(ListNode(val))\n",
    "    \n",
    "    # Связываем узлы\n",
    "    for i in range(len(nodes) - 1):\n",
    "        nodes[i].next = nodes[i + 1]\n",
    "    \n",
    "    # Создаем цикл, если указана позиция\n",
    "    if pos >= 0 and pos < len(nodes):\n",
    "        nodes[-1].next = nodes[pos]\n",
    "    \n",
    "    return nodes[0]\n",
    "\n",
    "def linked_list_to_string(head, max_display=10):\n",
    "    \"\"\"Преобразует связный список в строку, обрабатывая циклы\"\"\"\n",
    "    if not head:\n",
    "        return \"Пустой список\"\n",
    "    \n",
    "    result = []\n",
    "    current = head\n",
    "    visited = set()\n",
    "    count = 0\n",
    "    \n",
    "    while current and count < max_display:\n",
    "        if current in visited:\n",
    "            result.append(f\"{current.val} -> ... (цикл)\")\n",
    "            break\n",
    "        visited.add(current)\n",
    "        result.append(str(current.val))\n",
    "        current = current.next\n",
    "        count += 1\n",
    "    \n",
    "    if count >= max_display and current:\n",
    "        result.append(\"... (слишком длинный)\")\n",
    "    \n",
    "    return \" -> \".join(result)\n",
    "\n",
    "def detect_cycle_info(head):\n",
    "    \"\"\"Определяет информацию о цикле в списке\"\"\"\n",
    "    solution = Solution()\n",
    "    has_cycle = solution.hasCycle(head)\n",
    "    \n",
    "    if not has_cycle:\n",
    "        return has_cycle, None, None\n",
    "    \n",
    "    slow = head\n",
    "    fast = head\n",
    "    while fast and fast.next:\n",
    "        slow = slow.next\n",
    "        fast = fast.next.next\n",
    "        if slow == fast:\n",
    "            break\n",
    "    \n",
    "    # Находим начало цикла\n",
    "    slow = head\n",
    "    while slow != fast:\n",
    "        slow = slow.next\n",
    "        fast = fast.next\n",
    "    \n",
    "    # Находим длину цикла\n",
    "    cycle_length = 1\n",
    "    temp = fast.next\n",
    "    while temp != fast:\n",
    "        temp = temp.next\n",
    "        cycle_length += 1\n",
    "    \n",
    "    return has_cycle, slow.val, cycle_length\n",
    "\n",
    "print(\"Введите элементы списка через пробел:\")\n",
    "user_input = input().strip()\n",
    "\n",
    "if not user_input:\n",
    "    print(\"Ошибка: введите хотя бы один элемент\")\n",
    "\n",
    "values = list(map(int, user_input.split()))\n",
    "\n",
    "print(\"Введите позицию для создания цикла (-1 если цикла нет):\")\n",
    "pos_input = input().strip()\n",
    "pos = int(pos_input)\n",
    "\n",
    "if pos < -1 or pos >= len(values):\n",
    "    print(f\"Ошибка: позиция должна быть от -1 до {len(values)-1}\")\n",
    "\n",
    "head = create_linked_list_with_cycle(values, pos)\n",
    "\n",
    "print(f\"\\nСозданный список: {linked_list_to_string(head)}\")\n",
    "print(f\"Позиция цикла: {pos}\")\n",
    "\n",
    "has_cycle, cycle_start, cycle_length = detect_cycle_info(head)\n",
    "\n",
    "if has_cycle:\n",
    "    print(\"В списке есть цикл\")\n",
    "else:\n",
    "    print(\"Список линейный, цикла нет\")"
   ]
  },
  {
   "cell_type": "code",
   "execution_count": null,
   "id": "016b66b3-3fdd-4cd0-b917-f0d2a3396d3c",
   "metadata": {},
   "outputs": [],
   "source": []
  }
 ],
 "metadata": {
  "kernelspec": {
   "display_name": "Python 3 (ipykernel)",
   "language": "python",
   "name": "python3"
  },
  "language_info": {
   "codemirror_mode": {
    "name": "ipython",
    "version": 3
   },
   "file_extension": ".py",
   "mimetype": "text/x-python",
   "name": "python",
   "nbconvert_exporter": "python",
   "pygments_lexer": "ipython3",
   "version": "3.11.7"
  }
 },
 "nbformat": 4,
 "nbformat_minor": 5
}
