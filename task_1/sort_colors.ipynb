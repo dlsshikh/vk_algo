{
 "cells": [
  {
   "cell_type": "code",
   "execution_count": 1,
   "id": "88bb09fa-b08e-4d38-a739-63b89b541a22",
   "metadata": {},
   "outputs": [],
   "source": [
    "from typing import List\n",
    "\n",
    "class Solution:\n",
    "    def sortColors(self, nums: List[int]) -> None:\n",
    "        m, l = 0, 0\n",
    "        h = len(nums) - 1\n",
    "        while m <= h:\n",
    "            if nums[m] == 2:\n",
    "                nums[m], nums[h] = nums[h], nums[m]\n",
    "                h -=1\n",
    "            elif nums[m] == 0:\n",
    "                nums[m], nums[l] = nums[l], nums[m]\n",
    "                l +=1\n",
    "                m +=1\n",
    "            else:\n",
    "                m +=1\n",
    "        return nums"
   ]
  },
  {
   "cell_type": "code",
   "execution_count": 3,
   "id": "ede4045d-e2ee-4f30-a762-fcb042f53944",
   "metadata": {},
   "outputs": [
    {
     "name": "stdout",
     "output_type": "stream",
     "text": [
      "Введите массив цветов (0 - красный, 1 - белый, 2 - синий) через пробел:\n"
     ]
    },
    {
     "name": "stdin",
     "output_type": "stream",
     "text": [
      " 2 0 2 1 1 0\n"
     ]
    },
    {
     "name": "stdout",
     "output_type": "stream",
     "text": [
      "Отсортированный массив: [0, 0, 1, 1, 2, 2]\n"
     ]
    }
   ],
   "source": [
    "solution = Solution()\n",
    "\n",
    "print(\"Введите массив цветов (0 - красный, 1 - белый, 2 - синий) через пробел:\")\n",
    "\n",
    "try:\n",
    "    nums = list(map(int, input().split()))\n",
    "    \n",
    "    for num in nums:\n",
    "        if num not in [0, 1, 2]:\n",
    "            raise ValueError(\"Массив должен содержать только числа 0, 1 или 2\")\n",
    "    \n",
    "    original_nums = nums.copy()\n",
    "    \n",
    "    solution.sortColors(nums)\n",
    "    \n",
    "    print(f\"Отсортированный массив: {nums}\")\n",
    "    \n",
    "except ValueError as e:\n",
    "    print(f\"Ошибка ввода: {e}\")"
   ]
  },
  {
   "cell_type": "code",
   "execution_count": null,
   "id": "2081baca-1400-481b-ab58-8f88adbab5cd",
   "metadata": {},
   "outputs": [],
   "source": []
  }
 ],
 "metadata": {
  "kernelspec": {
   "display_name": "Python 3 (ipykernel)",
   "language": "python",
   "name": "python3"
  },
  "language_info": {
   "codemirror_mode": {
    "name": "ipython",
    "version": 3
   },
   "file_extension": ".py",
   "mimetype": "text/x-python",
   "name": "python",
   "nbconvert_exporter": "python",
   "pygments_lexer": "ipython3",
   "version": "3.11.5"
  }
 },
 "nbformat": 4,
 "nbformat_minor": 5
}
