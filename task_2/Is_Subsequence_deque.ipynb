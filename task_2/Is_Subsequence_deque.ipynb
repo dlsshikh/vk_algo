{
 "cells": [
  {
   "cell_type": "code",
   "execution_count": 1,
   "id": "0a25399f-47a1-445d-944e-d9c64820fd8c",
   "metadata": {},
   "outputs": [],
   "source": [
    "from collections import deque\n",
    "\n",
    "class Solution:\n",
    "    def isSubsequence(self, s: str, t: str) -> bool:\n",
    "        queue = deque(s)\n",
    "\n",
    "        for ch in t:\n",
    "            if queue and ch == queue[0]:\n",
    "                queue.popleft()\n",
    "            if not queue:\n",
    "                return True\n",
    "                \n",
    "        return not queue\n"
   ]
  },
  {
   "cell_type": "code",
   "execution_count": 3,
   "id": "aba07fc9-f855-45b6-a1b1-da695e1b8a1d",
   "metadata": {},
   "outputs": [
    {
     "name": "stdout",
     "output_type": "stream",
     "text": [
      "Введите предполагаемую подпоследовательность:\n"
     ]
    },
    {
     "name": "stdin",
     "output_type": "stream",
     "text": [
      " axc\n"
     ]
    },
    {
     "name": "stdout",
     "output_type": "stream",
     "text": [
      "Введите последовательность:\n"
     ]
    },
    {
     "name": "stdin",
     "output_type": "stream",
     "text": [
      " abdhgs\n"
     ]
    },
    {
     "name": "stdout",
     "output_type": "stream",
     "text": [
      "False\n"
     ]
    }
   ],
   "source": [
    "solution = Solution()\n",
    "\n",
    "print('Введите предполагаемую подпоследовательность:')\n",
    "s = input()\n",
    "print('Введите последовательность:')\n",
    "t = input()\n",
    "\n",
    "print(solution.isSubsequence(s, t))"
   ]
  },
  {
   "cell_type": "code",
   "execution_count": null,
   "id": "f7687834-e93b-446b-8dcc-87a01f33e27a",
   "metadata": {},
   "outputs": [],
   "source": []
  }
 ],
 "metadata": {
  "kernelspec": {
   "display_name": "Python 3 (ipykernel)",
   "language": "python",
   "name": "python3"
  },
  "language_info": {
   "codemirror_mode": {
    "name": "ipython",
    "version": 3
   },
   "file_extension": ".py",
   "mimetype": "text/x-python",
   "name": "python",
   "nbconvert_exporter": "python",
   "pygments_lexer": "ipython3",
   "version": "3.11.7"
  }
 },
 "nbformat": 4,
 "nbformat_minor": 5
}
