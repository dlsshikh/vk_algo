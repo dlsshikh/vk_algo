{
 "cells": [
  {
   "cell_type": "code",
   "execution_count": 1,
   "id": "9fd0480b-3eb9-4eee-9b86-0ca4d860ad58",
   "metadata": {},
   "outputs": [],
   "source": [
    "from typing import List\n",
    "\n",
    "class Solution:\n",
    "    def sortArrayByParity(self, nums: List[int]) -> List[int]:\n",
    "        j = 0\n",
    "        for i in range(0, len(nums)):\n",
    "            if nums[i] %2 == 0:\n",
    "                nums[i], nums[j] = nums[j], nums[i]\n",
    "                j +=1\n",
    "        return nums"
   ]
  },
  {
   "cell_type": "code",
   "execution_count": 2,
   "id": "a27b2967-aa5a-40ef-a1bc-671e83d64477",
   "metadata": {},
   "outputs": [
    {
     "name": "stdout",
     "output_type": "stream",
     "text": [
      "Введите числа через пробел:\n"
     ]
    },
    {
     "name": "stdin",
     "output_type": "stream",
     "text": [
      " 3 1 2 4\n"
     ]
    },
    {
     "name": "stdout",
     "output_type": "stream",
     "text": [
      "Результат: [2, 4, 3, 1]\n"
     ]
    }
   ],
   "source": [
    "solution = Solution()\n",
    "\n",
    "print(\"Введите числа через пробел:\")\n",
    "try:\n",
    "    nums = list(map(int, input().split()))\n",
    "    \n",
    "    original_nums = nums.copy()\n",
    "    \n",
    "    result = solution.sortArrayByParity(nums)\n",
    "    \n",
    "    print(f\"Результат: {result}\")\n",
    "    \n",
    "    even_count = sum(1 for num in result if num % 2 == 0)\n",
    "    is_correct = all(num % 2 == 0 for num in result[:even_count]) and \\\n",
    "                all(num % 2 == 1 for num in result[even_count:])\n",
    "\n",
    "except ValueError:\n",
    "    print(\"Ошибка: введите целые числа, разделенные пробелами!\")"
   ]
  },
  {
   "cell_type": "code",
   "execution_count": null,
   "id": "fde04686-a185-4fdd-ac9d-753f1db02b4c",
   "metadata": {},
   "outputs": [],
   "source": []
  }
 ],
 "metadata": {
  "kernelspec": {
   "display_name": "Python 3 (ipykernel)",
   "language": "python",
   "name": "python3"
  },
  "language_info": {
   "codemirror_mode": {
    "name": "ipython",
    "version": 3
   },
   "file_extension": ".py",
   "mimetype": "text/x-python",
   "name": "python",
   "nbconvert_exporter": "python",
   "pygments_lexer": "ipython3",
   "version": "3.11.5"
  }
 },
 "nbformat": 4,
 "nbformat_minor": 5
}
