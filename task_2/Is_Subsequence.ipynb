{
 "cells": [
  {
   "cell_type": "code",
   "execution_count": 2,
   "id": "55452e8a-3ef0-4173-ba54-1f2eb04d6676",
   "metadata": {},
   "outputs": [],
   "source": [
    "class Solution:\n",
    "    def isSubsequence(self, s: str, t: str) -> bool:\n",
    "        i = 0 #for s\n",
    "        j = 0 #for t \n",
    "        while j < len(t) and i  < len(s):\n",
    "            if s[i] == t[j]:\n",
    "                i +=1\n",
    "            j +=1\n",
    "        if i == len(s):\n",
    "            return True\n",
    "        return False\n",
    "        "
   ]
  },
  {
   "cell_type": "code",
   "execution_count": 5,
   "id": "74c96103-7225-4585-86b5-8a03a150f3cd",
   "metadata": {},
   "outputs": [
    {
     "name": "stdout",
     "output_type": "stream",
     "text": [
      "\n",
      "Введите данные для теста:\n"
     ]
    },
    {
     "name": "stdin",
     "output_type": "stream",
     "text": [
      "Строка s:  abs\n",
      "Строка t:  abfpsfkls\n"
     ]
    },
    {
     "name": "stdout",
     "output_type": "stream",
     "text": [
      "\n",
      "Результат: 'abs' является подпоследовательностью 'abfpsfkls'\n"
     ]
    }
   ],
   "source": [
    "solution = Solution()\n",
    "print(\"\\nВведите данные для теста:\")\n",
    "s = input(\"Строка s: \")\n",
    "\n",
    "t = input(\"Строка t: \")\n",
    "\n",
    "result = solution.isSubsequence(s, t)\n",
    "\n",
    "# Выводим результат\n",
    "print(f\"\\nРезультат: '{s}' {'является' if result else 'НЕ является'} подпоследовательностью '{t}'\")"
   ]
  },
  {
   "cell_type": "code",
   "execution_count": null,
   "id": "f49ef8ab-f254-4575-b96a-157941b782ab",
   "metadata": {},
   "outputs": [],
   "source": []
  }
 ],
 "metadata": {
  "kernelspec": {
   "display_name": "Python 3 (ipykernel)",
   "language": "python",
   "name": "python3"
  },
  "language_info": {
   "codemirror_mode": {
    "name": "ipython",
    "version": 3
   },
   "file_extension": ".py",
   "mimetype": "text/x-python",
   "name": "python",
   "nbconvert_exporter": "python",
   "pygments_lexer": "ipython3",
   "version": "3.11.7"
  }
 },
 "nbformat": 4,
 "nbformat_minor": 5
}
