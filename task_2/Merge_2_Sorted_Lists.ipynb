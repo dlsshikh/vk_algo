{
 "cells": [
  {
   "cell_type": "code",
   "execution_count": 6,
   "id": "ab35c84b-1348-4372-b702-6dbcb9b2e94a",
   "metadata": {},
   "outputs": [],
   "source": [
    "# Definition for singly-linked list.\n",
    "class ListNode:\n",
    "    def __init__(self, val=0, next=None):\n",
    "        self.val = val\n",
    "        self.next = next\n",
    "class Solution:\n",
    "    def mergeTwoLists(self, list1: ListNode, list2: ListNode) -> ListNode:\n",
    "        dummy = ListNode()\n",
    "        tail = dummy\n",
    "\n",
    "        while list1 and list2:\n",
    "            if list1.val > list2.val:\n",
    "                tail.next = list2\n",
    "                list2 = list2.next\n",
    "            else:\n",
    "                tail.next = list1\n",
    "                list1 = list1.next\n",
    "            tail = tail.next\n",
    "\n",
    "        tail.next = list1 if list1 else list2\n",
    "\n",
    "        return dummy.next"
   ]
  },
  {
   "cell_type": "code",
   "execution_count": 8,
   "id": "ab490530-2d00-4915-9252-637914f00f5f",
   "metadata": {},
   "outputs": [
    {
     "name": "stdin",
     "output_type": "stream",
     "text": [
      "Введите элементы первого списка через пробел:  1 2 5 7\n",
      "Введите элементы второго списка через пробел:  2 5 8 9\n"
     ]
    },
    {
     "name": "stdout",
     "output_type": "stream",
     "text": [
      "Объединенный список: [1, 2, 2, 5, 5, 7, 8, 9]\n"
     ]
    }
   ],
   "source": [
    "# Создание связного списка из списка значений\n",
    "def create_linked_list(values):\n",
    "    if not values:\n",
    "        return None\n",
    "    head = ListNode(values[0])\n",
    "    current = head\n",
    "    for val in values[1:]:\n",
    "        current.next = ListNode(val)\n",
    "        current = current.next\n",
    "    return head\n",
    "\n",
    "# Преобразование связного списка в список значений\n",
    "def linked_list_to_list(head):\n",
    "    values = []\n",
    "    current = head\n",
    "    while current:\n",
    "        values.append(current.val)\n",
    "        current = current.next\n",
    "    return values\n",
    "\n",
    "# Ввод данных от пользователя\n",
    "try:\n",
    "    list1_input = list(map(int, input(\"Введите элементы первого списка через пробел: \").split()))\n",
    "    list2_input = list(map(int, input(\"Введите элементы второго списка через пробел: \").split()))\n",
    "except ValueError:\n",
    "    print(\"Ошибка: введите целые числа, разделенные пробелами.\")\n",
    "    exit()\n",
    "\n",
    "# Создание связных списков\n",
    "list1 = create_linked_list(list1_input)\n",
    "list2 = create_linked_list(list2_input)\n",
    "\n",
    "# Объединение списков\n",
    "solution = Solution()\n",
    "merged_list = solution.mergeTwoLists(list1, list2)\n",
    "\n",
    "# Вывод результата\n",
    "result = linked_list_to_list(merged_list)\n",
    "print(\"Объединенный список:\", result)"
   ]
  },
  {
   "cell_type": "code",
   "execution_count": null,
   "id": "a58940c5-00d9-4cc2-b5a5-b30eeecbaf5e",
   "metadata": {},
   "outputs": [],
   "source": []
  }
 ],
 "metadata": {
  "kernelspec": {
   "display_name": "Python 3 (ipykernel)",
   "language": "python",
   "name": "python3"
  },
  "language_info": {
   "codemirror_mode": {
    "name": "ipython",
    "version": 3
   },
   "file_extension": ".py",
   "mimetype": "text/x-python",
   "name": "python",
   "nbconvert_exporter": "python",
   "pygments_lexer": "ipython3",
   "version": "3.11.7"
  }
 },
 "nbformat": 4,
 "nbformat_minor": 5
}
