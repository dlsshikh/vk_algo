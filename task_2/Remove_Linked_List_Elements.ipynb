{
 "cells": [
  {
   "cell_type": "code",
   "execution_count": 2,
   "id": "75683206-f646-479f-a265-b1b503e60408",
   "metadata": {},
   "outputs": [],
   "source": [
    "# Definition for singly-linked list.\n",
    "class ListNode:\n",
    "    def __init__(self, val=0, next=None):\n",
    "        self.val = val\n",
    "        self.next = next\n",
    "class Solution:\n",
    "    def removeElements(self, head: ListNode, val: int) -> ListNode:\n",
    "        dummy = ListNode(0)\n",
    "        dummy.next = head\n",
    "        current = dummy\n",
    "\n",
    "        while current.next:\n",
    "            if current.next.val == val:\n",
    "                current.next = current.next.next\n",
    "            else:\n",
    "                current = current.next\n",
    "            \n",
    "        return dummy.next\n",
    "        "
   ]
  },
  {
   "cell_type": "code",
   "execution_count": 5,
   "id": "86558437-ce30-4b89-a633-768f78a5af7b",
   "metadata": {},
   "outputs": [
    {
     "name": "stdout",
     "output_type": "stream",
     "text": [
      "\n",
      "Введите элементы списка через пробел:\n"
     ]
    },
    {
     "name": "stdin",
     "output_type": "stream",
     "text": [
      " 1 2 4 6\n"
     ]
    },
    {
     "name": "stdout",
     "output_type": "stream",
     "text": [
      "Введите значение для удаления:\n"
     ]
    },
    {
     "name": "stdin",
     "output_type": "stream",
     "text": [
      " 6\n"
     ]
    },
    {
     "name": "stdout",
     "output_type": "stream",
     "text": [
      "\n",
      "Исходный список: 1 -> 2 -> 4 -> 6 -> None\n",
      "Удаляем все узлы со значением: 6\n",
      "Результат: 1 -> 2 -> 4 -> None\n",
      "\n",
      "Удалено 1 элементов со значением 6\n"
     ]
    }
   ],
   "source": [
    "def create_linked_list(values):\n",
    "    \"\"\"Создает связный список из списка значений\"\"\"\n",
    "    if not values:\n",
    "        return None\n",
    "    head = ListNode(values[0])\n",
    "    current = head\n",
    "    for val in values[1:]:\n",
    "        current.next = ListNode(val)\n",
    "        current = current.next\n",
    "    return head\n",
    "\n",
    "def linked_list_to_list(head):\n",
    "    \"\"\"Преобразует связный список в обычный список\"\"\"\n",
    "    result = []\n",
    "    current = head\n",
    "    while current:\n",
    "        result.append(current.val)\n",
    "        current = current.next\n",
    "    return result\n",
    "\n",
    "def print_linked_list(head):\n",
    "    \"\"\"Печатает связный список в удобном формате\"\"\"\n",
    "    values = linked_list_to_list(head)\n",
    "    return \" -> \".join(map(str, values)) + \" -> None\"\n",
    "\n",
    "print(\"\\nВведите элементы списка через пробел:\")\n",
    "user_input = input().strip()\n",
    "\n",
    "if not user_input:\n",
    "    print(\"Ошибка: введите хотя бы один элемент\")\n",
    "    \n",
    "values = list(map(int, user_input.split()))\n",
    "\n",
    "print(\"Введите значение для удаления:\")\n",
    "val_to_remove = int(input().strip())\n",
    "\n",
    "head = create_linked_list(values)\n",
    "\n",
    "print(f\"\\nИсходный список: {print_linked_list(head)}\")\n",
    "print(f\"Удаляем все узлы со значением: {val_to_remove}\")\n",
    "\n",
    "solution = Solution()\n",
    "new_head = solution.removeElements(head, val_to_remove)\n",
    "\n",
    "print(f\"Результат: {print_linked_list(new_head)}\")\n",
    "\n",
    "# Дополнительная информация\n",
    "original_list = linked_list_to_list(create_linked_list(values))\n",
    "result_list = linked_list_to_list(new_head)\n",
    "removed_count = len(original_list) - len(result_list)\n",
    "\n",
    "print(f\"\\nУдалено {removed_count} элементов со значением {val_to_remove}\")"
   ]
  },
  {
   "cell_type": "code",
   "execution_count": null,
   "id": "3b73c41e-b3ed-4f33-bfdb-b96b6039e677",
   "metadata": {},
   "outputs": [],
   "source": []
  }
 ],
 "metadata": {
  "kernelspec": {
   "display_name": "Python 3 (ipykernel)",
   "language": "python",
   "name": "python3"
  },
  "language_info": {
   "codemirror_mode": {
    "name": "ipython",
    "version": 3
   },
   "file_extension": ".py",
   "mimetype": "text/x-python",
   "name": "python",
   "nbconvert_exporter": "python",
   "pygments_lexer": "ipython3",
   "version": "3.11.7"
  }
 },
 "nbformat": 4,
 "nbformat_minor": 5
}
