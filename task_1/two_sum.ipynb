{
 "cells": [
  {
   "cell_type": "code",
   "execution_count": 2,
   "id": "d7825d24-cbbc-42a1-abcf-0238a1550fca",
   "metadata": {},
   "outputs": [],
   "source": [
    "from typing import List\n",
    "\n",
    "class Solution:\n",
    "    def twoSum(self, nums: List[int], target: int) -> List[int]:\n",
    "         r = len(nums) - 1\n",
    "         l = 0\n",
    "         while l < r:\n",
    "            wanted_sum = nums[l] + nums[r]\n",
    "            if wanted_sum == target:\n",
    "                return [l+1, r+1]\n",
    "            elif wanted_sum < target:\n",
    "                l +=1\n",
    "            else:\n",
    "                r -=1"
   ]
  },
  {
   "cell_type": "code",
   "execution_count": 4,
   "id": "77d8d584-2379-40ec-96f5-132f88452fe7",
   "metadata": {},
   "outputs": [
    {
     "name": "stdout",
     "output_type": "stream",
     "text": [
      "Введите числа через пробел (отсортированные по возрастанию):\n"
     ]
    },
    {
     "name": "stdin",
     "output_type": "stream",
     "text": [
      " 1 2 3 5 7 8\n"
     ]
    },
    {
     "name": "stdout",
     "output_type": "stream",
     "text": [
      "Введите целевую сумму:\n"
     ]
    },
    {
     "name": "stdin",
     "output_type": "stream",
     "text": [
      " 10\n"
     ]
    },
    {
     "name": "stdout",
     "output_type": "stream",
     "text": [
      "Найдены индексы: [2, 6]\n"
     ]
    }
   ],
   "source": [
    "solution = Solution()\n",
    "\n",
    "print(\"Введите числа через пробел (отсортированные по возрастанию):\")\n",
    "nums = list(map(int, input().split()))\n",
    "\n",
    "print(\"Введите целевую сумму:\")\n",
    "target = int(input())\n",
    "\n",
    "result = solution.twoSum(nums, target)\n",
    "\n",
    "if result:\n",
    "    print(f\"Найдены индексы: {result}\")\n",
    "else:\n",
    "    print(\"Решение не найдено\")"
   ]
  },
  {
   "cell_type": "code",
   "execution_count": null,
   "id": "71118fd4-49c8-4793-ad5b-694dc1d261a6",
   "metadata": {},
   "outputs": [],
   "source": []
  }
 ],
 "metadata": {
  "kernelspec": {
   "display_name": "Python 3 (ipykernel)",
   "language": "python",
   "name": "python3"
  },
  "language_info": {
   "codemirror_mode": {
    "name": "ipython",
    "version": 3
   },
   "file_extension": ".py",
   "mimetype": "text/x-python",
   "name": "python",
   "nbconvert_exporter": "python",
   "pygments_lexer": "ipython3",
   "version": "3.11.5"
  }
 },
 "nbformat": 4,
 "nbformat_minor": 5
}
