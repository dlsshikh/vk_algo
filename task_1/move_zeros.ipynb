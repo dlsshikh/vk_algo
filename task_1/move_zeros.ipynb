{
 "cells": [
  {
   "cell_type": "code",
   "execution_count": 1,
   "id": "5e08f611-cd91-44ac-b342-5471d4f5be2e",
   "metadata": {},
   "outputs": [],
   "source": [
    "from typing import List\n",
    "\n",
    "class Solution:\n",
    "    def moveZeroes(self, nums: List[int]) -> None:\n",
    "        index = 0\n",
    "        for i in range(len(nums)):\n",
    "            if nums[i] != 0:\n",
    "                nums[i], nums[index] = nums[index], nums[i]\n",
    "                index += 1\n",
    "        return nums"
   ]
  },
  {
   "cell_type": "code",
   "execution_count": 2,
   "id": "3665e71e-5ccb-4bc2-9426-5ce2c076b1cb",
   "metadata": {},
   "outputs": [
    {
     "name": "stdout",
     "output_type": "stream",
     "text": [
      "Введите числа через пробел:\n"
     ]
    },
    {
     "name": "stdin",
     "output_type": "stream",
     "text": [
      " 0 1 0 3 12\n"
     ]
    },
    {
     "name": "stdout",
     "output_type": "stream",
     "text": [
      "Результат: [1, 3, 12, 0, 0]\n"
     ]
    }
   ],
   "source": [
    "solution = Solution()\n",
    "print(\"Введите числа через пробел:\")\n",
    "try:\n",
    "    nums = list(map(int, input().split()))\n",
    "    \n",
    "    original_nums = nums.copy()\n",
    "    solution.moveZeroes(nums)\n",
    "    \n",
    "    print(f\"Результат: {nums}\")\n",
    "   \n",
    "    non_zero_count = sum(1 for num in nums if num != 0)\n",
    "    is_correct = all(num != 0 for num in nums[:non_zero_count]) and \\\n",
    "                all(num == 0 for num in nums[non_zero_count:])\n",
    "    \n",
    "    non_zero_original = [num for num in original_nums if num != 0]\n",
    "    non_zero_result = [num for num in nums if num != 0]\n",
    "    order_preserved = non_zero_original == non_zero_result\n",
    "    \n",
    "except ValueError:\n",
    "    print(\"Ошибка: введите целые числа, разделенные пробелами!\")"
   ]
  },
  {
   "cell_type": "code",
   "execution_count": null,
   "id": "641f2ee2-e00e-446c-bc08-0bfe942435b8",
   "metadata": {},
   "outputs": [],
   "source": []
  }
 ],
 "metadata": {
  "kernelspec": {
   "display_name": "Python 3 (ipykernel)",
   "language": "python",
   "name": "python3"
  },
  "language_info": {
   "codemirror_mode": {
    "name": "ipython",
    "version": 3
   },
   "file_extension": ".py",
   "mimetype": "text/x-python",
   "name": "python",
   "nbconvert_exporter": "python",
   "pygments_lexer": "ipython3",
   "version": "3.11.5"
  }
 },
 "nbformat": 4,
 "nbformat_minor": 5
}
