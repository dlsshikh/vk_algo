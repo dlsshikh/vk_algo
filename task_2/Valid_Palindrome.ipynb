{
 "cells": [
  {
   "cell_type": "code",
   "execution_count": 5,
   "id": "ab2803ed-f684-4ff9-b760-6f8bcd5d6ed1",
   "metadata": {},
   "outputs": [],
   "source": [
    "class Solution:\n",
    "    def isPalindrome(self, s: str) -> bool:\n",
    "        filtered = [ch.lower() for ch in s if ch.isalnum()]\n",
    "        if filtered == filtered[::-1]:\n",
    "            return True\n",
    "        return False"
   ]
  },
  {
   "cell_type": "code",
   "execution_count": 6,
   "id": "d37c3196-5413-4924-abbb-bc633c909857",
   "metadata": {},
   "outputs": [
    {
     "name": "stdout",
     "output_type": "stream",
     "text": [
      "Введите строку для проверки:\n"
     ]
    },
    {
     "name": "stdin",
     "output_type": "stream",
     "text": [
      ">  фываав\n"
     ]
    },
    {
     "name": "stdout",
     "output_type": "stream",
     "text": [
      "Строка НЕ является палиндромом\n"
     ]
    }
   ],
   "source": [
    "solution = Solution()\n",
    "print(\"Введите строку для проверки:\")\n",
    "user_input = input(\"> \")\n",
    "\n",
    "if not user_input.strip():\n",
    "    print(\"Ошибка: введите непустую строку\\n\")\n",
    "\n",
    "# Проверяем, является ли строка палиндромом\n",
    "is_palindrome= solution.isPalindrome(user_input)\n",
    "\n",
    "if is_palindrome:\n",
    "    print(\"Строка является палиндромом\")\n",
    "else:\n",
    "    print(\"Строка НЕ является палиндромом\")"
   ]
  },
  {
   "cell_type": "code",
   "execution_count": null,
   "id": "838b9738-937d-489c-8f03-24560432a22a",
   "metadata": {},
   "outputs": [],
   "source": []
  }
 ],
 "metadata": {
  "kernelspec": {
   "display_name": "Python 3 (ipykernel)",
   "language": "python",
   "name": "python3"
  },
  "language_info": {
   "codemirror_mode": {
    "name": "ipython",
    "version": 3
   },
   "file_extension": ".py",
   "mimetype": "text/x-python",
   "name": "python",
   "nbconvert_exporter": "python",
   "pygments_lexer": "ipython3",
   "version": "3.11.7"
  }
 },
 "nbformat": 4,
 "nbformat_minor": 5
}
