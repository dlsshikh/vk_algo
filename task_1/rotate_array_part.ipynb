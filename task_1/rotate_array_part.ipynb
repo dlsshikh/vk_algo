{
 "cells": [
  {
   "cell_type": "code",
   "execution_count": 2,
   "id": "d1d6f5f9-9720-4b7d-9962-04de14249032",
   "metadata": {},
   "outputs": [],
   "source": [
    "from typing import List\n",
    "\n",
    "class Solution:\n",
    "    def rotate(self, nums: List[int], k: int) -> None:\n",
    "        k %= len(nums)\n",
    "        def rotate(start, finish):\n",
    "            while start <= finish:\n",
    "                nums[start], nums[finish] = nums[finish], nums[start]\n",
    "                start +=1\n",
    "                finish -=1\n",
    "            return nums\n",
    "        \n",
    "        rotate(0, len(nums) - 1)\n",
    "        rotate(0, k - 1)\n",
    "        rotate(k, len(nums) - 1)\n",
    "        return nums"
   ]
  },
  {
   "cell_type": "code",
   "execution_count": 5,
   "id": "5b758c91-6973-4d46-bd37-304ccbaecb18",
   "metadata": {},
   "outputs": [
    {
     "name": "stdout",
     "output_type": "stream",
     "text": [
      "Введите числа через пробел:\n"
     ]
    },
    {
     "name": "stdin",
     "output_type": "stream",
     "text": [
      " 1 2 3 4 5 6 7\n"
     ]
    },
    {
     "name": "stdout",
     "output_type": "stream",
     "text": [
      "Введите количество шагов вращения (k):\n"
     ]
    },
    {
     "name": "stdin",
     "output_type": "stream",
     "text": [
      " 3\n"
     ]
    },
    {
     "name": "stdout",
     "output_type": "stream",
     "text": [
      "Массив после вращения: [5, 6, 7, 1, 2, 3, 4]\n"
     ]
    }
   ],
   "source": [
    "solution = Solution()\n",
    "\n",
    "print(\"Введите числа через пробел:\")\n",
    "nums = list(map(int, input().split()))\n",
    "\n",
    "print(\"Введите количество шагов вращения (k):\")\n",
    "k = int(input())\n",
    "\n",
    "solution.rotate(nums, k)\n",
    "\n",
    "print(f\"Массив после вращения: {nums}\")"
   ]
  },
  {
   "cell_type": "code",
   "execution_count": null,
   "id": "d476bfda-477a-4753-91b8-0474e3a7b789",
   "metadata": {},
   "outputs": [],
   "source": []
  }
 ],
 "metadata": {
  "kernelspec": {
   "display_name": "Python 3 (ipykernel)",
   "language": "python",
   "name": "python3"
  },
  "language_info": {
   "codemirror_mode": {
    "name": "ipython",
    "version": 3
   },
   "file_extension": ".py",
   "mimetype": "text/x-python",
   "name": "python",
   "nbconvert_exporter": "python",
   "pygments_lexer": "ipython3",
   "version": "3.11.5"
  }
 },
 "nbformat": 4,
 "nbformat_minor": 5
}
