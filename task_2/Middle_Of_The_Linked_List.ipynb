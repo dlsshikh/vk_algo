{
 "cells": [
  {
   "cell_type": "code",
   "execution_count": 1,
   "id": "eaae50aa-51f9-4e80-a42e-549c89055665",
   "metadata": {},
   "outputs": [],
   "source": [
    "# Definition for singly-linked list.\n",
    "class ListNode:\n",
    "    def __init__(self, val=0, next=None):\n",
    "        self.val = val\n",
    "        self.next = next\n",
    "class Solution:\n",
    "    def middleNode(self, head: ListNode) -> ListNode:\n",
    "        slow = head\n",
    "        fast = head\n",
    "        while fast and fast.next:\n",
    "            slow = slow.next\n",
    "            fast = fast.next.next\n",
    "\n",
    "        return slow\n",
    "        "
   ]
  },
  {
   "cell_type": "code",
   "execution_count": 3,
   "id": "1510db4c-56f8-42d2-8eab-cb86e99838cc",
   "metadata": {},
   "outputs": [
    {
     "name": "stdout",
     "output_type": "stream",
     "text": [
      "Введите элементы списка через пробел:\n"
     ]
    },
    {
     "name": "stdin",
     "output_type": "stream",
     "text": [
      " 1 2 4 6 8 4 7\n"
     ]
    },
    {
     "name": "stdout",
     "output_type": "stream",
     "text": [
      "\n",
      "Исходный список: 1 -> 2 -> 4 -> 6 -> 8 -> 4 -> 7 -> None\n",
      "Значение среднего узла: 6\n"
     ]
    }
   ],
   "source": [
    "def create_linked_list(values):\n",
    "    \"\"\"Создает связный список из списка значений\"\"\"\n",
    "    if not values:\n",
    "        return None\n",
    "    head = ListNode(values[0])\n",
    "    current = head\n",
    "    for val in values[1:]:\n",
    "        current.next = ListNode(val)\n",
    "        current = current.next\n",
    "    return head\n",
    "\n",
    "def linked_list_to_list(head):\n",
    "    \"\"\"Преобразует связный список в обычный список\"\"\"\n",
    "    result = []\n",
    "    current = head\n",
    "    while current:\n",
    "        result.append(current.val)\n",
    "        current = current.next\n",
    "    return result\n",
    "\n",
    "def print_linked_list(head):\n",
    "    \"\"\"Печатает связный список в удобном формате\"\"\"\n",
    "    values = linked_list_to_list(head)\n",
    "    return \" -> \".join(map(str, values)) + \" -> None\"\n",
    "\n",
    "print(\"Введите элементы списка через пробел:\")\n",
    "user_input = input().strip()\n",
    "\n",
    "if not user_input:\n",
    "    print(\"Ошибка: введите хотя бы один элемент\")\n",
    "    \n",
    "values = list(map(int, user_input.split()))\n",
    "\n",
    "head = create_linked_list(values)\n",
    "\n",
    "print(f\"\\nИсходный список: {print_linked_list(head)}\")\n",
    "solution = Solution()\n",
    "middle_node = solution.middleNode(head)\n",
    "\n",
    "\n",
    "if middle_node:\n",
    "    middle_values = linked_list_to_list(middle_node)\n",
    "    print(f\"Значение среднего узла: {middle_node.val}\")\n",
    "    \n",
    "else:\n",
    "    print(\"Список пустой, среднего узла не существует\")"
   ]
  },
  {
   "cell_type": "code",
   "execution_count": null,
   "id": "7e40a65e-7208-4a55-8d9e-696245c3d847",
   "metadata": {},
   "outputs": [],
   "source": []
  }
 ],
 "metadata": {
  "kernelspec": {
   "display_name": "Python 3 (ipykernel)",
   "language": "python",
   "name": "python3"
  },
  "language_info": {
   "codemirror_mode": {
    "name": "ipython",
    "version": 3
   },
   "file_extension": ".py",
   "mimetype": "text/x-python",
   "name": "python",
   "nbconvert_exporter": "python",
   "pygments_lexer": "ipython3",
   "version": "3.11.7"
  }
 },
 "nbformat": 4,
 "nbformat_minor": 5
}
